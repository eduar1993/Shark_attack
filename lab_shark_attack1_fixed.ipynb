{
 "cells": [
  {
   "cell_type": "code",
   "execution_count": 1,
   "id": "dd5fb6d4",
   "metadata": {},
   "outputs": [],
   "source": [
    "import pandas as pd"
   ]
  },
  {
   "cell_type": "code",
   "execution_count": 2,
   "id": "9a121fa7",
   "metadata": {},
   "outputs": [],
   "source": [
    "url = \"https://raw.githubusercontent.com/deysigalvez38/Archivos/main/GSAF5_clean.csv\"\n",
    "df = pd.read_csv(url)"
   ]
  },
  {
   "cell_type": "code",
   "execution_count": 3,
   "id": "62669ce0",
   "metadata": {},
   "outputs": [
    {
     "data": {
      "text/plain": [
       "Index(['Date', 'Year', 'Type', 'Country', 'State', 'Location', 'Activity',\n",
       "       'Name', 'Sex', 'Age', 'Injury', 'Fatal Y/N', 'Time', 'Species ',\n",
       "       'Source', 'pdf', 'href formula', 'href', 'Case Number', 'Case Number.1',\n",
       "       'original order', 'Unnamed: 21'],\n",
       "      dtype='object')"
      ]
     },
     "execution_count": 3,
     "metadata": {},
     "output_type": "execute_result"
    }
   ],
   "source": [
    "# paso 1:  Observar el dataframe\n",
    "df.head()\n",
    "df.columns"
   ]
  },
  {
   "cell_type": "code",
   "execution_count": 12,
   "id": "521239a3",
   "metadata": {},
   "outputs": [
    {
     "data": {
      "text/plain": [
       "Index(['Date', 'Year', 'Type', 'Country', 'State', 'Location', 'Activity',\n",
       "       'Name', 'Sex', 'Age', 'Injury', 'Fatality', 'Time', 'Species ',\n",
       "       'Source', 'pdf', 'href formula', 'href', 'Case Number', 'Case Number.1',\n",
       "       'original order', 'Unnamed: 21'],\n",
       "      dtype='object')"
      ]
     },
     "execution_count": 12,
     "metadata": {},
     "output_type": "execute_result"
    }
   ],
   "source": [
    "df.rename(columns={'Fatal Y/N': 'Fatality'}, inplace=True)\n",
    "df.columns\n"
   ]
  },
  {
   "cell_type": "code",
   "execution_count": 13,
   "id": "2cde8a49",
   "metadata": {},
   "outputs": [
    {
     "data": {
      "text/plain": [
       "array(['N', 'Not stated', 'Y', ..., 'ND-0004-Ahmun.pdf',\n",
       "       'F. Schwartz, p.23; C. Creswell, GSAF',\n",
       "       'http://sharkattackfile.net/spreadsheets/pdf_directory/ND-0002-JulesPatterson.pdf'],\n",
       "      shape=(2639,), dtype=object)"
      ]
     },
     "execution_count": 13,
     "metadata": {},
     "output_type": "execute_result"
    }
   ],
   "source": [
    "df['Fatality'].unique()\n"
   ]
  },
  {
   "cell_type": "code",
   "execution_count": 15,
   "id": "798090da",
   "metadata": {},
   "outputs": [
    {
     "name": "stdout",
     "output_type": "stream",
     "text": [
      "['Date', 'Year', 'Type', 'Country', 'State', 'Location', 'Activity', 'Name', 'Sex', 'Age', 'Injury', 'Fatality', 'Time', 'Species', 'Source', 'pdf', 'href formula', 'href', 'Case Number', 'Case Number.1', 'original order', 'Unnamed: 21']\n"
     ]
    }
   ],
   "source": [
    "# Elimina espacios al inicio/final y reemplaza caracteres raros\n",
    "df.columns = df.columns.str.strip()\n",
    "print(df.columns.tolist())\n",
    "\n"
   ]
  },
  {
   "cell_type": "code",
   "execution_count": 16,
   "id": "0409984d",
   "metadata": {},
   "outputs": [
    {
     "name": "stdout",
     "output_type": "stream",
     "text": [
      "['Fatality']\n"
     ]
    }
   ],
   "source": [
    "# Buscar columna que contenga la palabra 'Fatal'\n",
    "fatal_col = [col for col in df.columns if 'Fatal' in col]\n",
    "print(fatal_col)\n"
   ]
  },
  {
   "cell_type": "code",
   "execution_count": 19,
   "id": "178ae376",
   "metadata": {},
   "outputs": [
    {
     "name": "stdout",
     "output_type": "stream",
     "text": [
      "['No' 'Unknown' 'Yes']\n"
     ]
    }
   ],
   "source": [
    "col_name = fatal_col[0]  # usa el nombre detectado automáticamente\n",
    "\n",
    "df['Fatality_clean'] = df[col_name].map({'Y': 'Yes', 'N': 'No', 'Not stated': 'Unknown'})\n",
    "df['Fatality_clean'] = df['Fatality_clean'].fillna('Unknown')\n",
    "\n",
    "\n",
    "print(df['Fatality_clean'].unique())\n"
   ]
  },
  {
   "cell_type": "code",
   "execution_count": 25,
   "id": "f52b00f7",
   "metadata": {},
   "outputs": [
    {
     "data": {
      "text/plain": [
       "array(['Fishing/swimming', 'Surfing', 'Swimming', ..., '20 Fijians',\n",
       "       'A chiefessF', 'Ahmun'], shape=(2101,), dtype=object)"
      ]
     },
     "execution_count": 25,
     "metadata": {},
     "output_type": "execute_result"
    }
   ],
   "source": [
    "df['Activity'].unique()"
   ]
  },
  {
   "cell_type": "code",
   "execution_count": 26,
   "id": "6b5c7610",
   "metadata": {},
   "outputs": [],
   "source": [
    "# Quitar espacios al inicio/final y pasar a formato título\n",
    "df['Activity_clean'] = df['Activity'].str.strip().str.title()\n"
   ]
  },
  {
   "cell_type": "code",
   "execution_count": 27,
   "id": "ef9731f5",
   "metadata": {},
   "outputs": [],
   "source": [
    "valid_activities = [\n",
    "    'Swimming', 'Surfing', 'Spearfishing', 'Bathing', 'Snorkeling',\n",
    "    'Bodyboarding', 'Diving', 'Wading', 'Standing', 'Fishing'\n",
    "]\n"
   ]
  },
  {
   "cell_type": "code",
   "execution_count": 28,
   "id": "bf53646d",
   "metadata": {},
   "outputs": [],
   "source": [
    "df['Activity_clean'] = df['Activity_clean'].apply(lambda x: x if x in valid_activities else 'Other')\n"
   ]
  },
  {
   "cell_type": "code",
   "execution_count": 29,
   "id": "81e654ed",
   "metadata": {},
   "outputs": [
    {
     "data": {
      "text/plain": [
       "Activity_clean\n",
       "Other           3492\n",
       "Surfing         1125\n",
       "Swimming         963\n",
       "Fishing          445\n",
       "Spearfishing     354\n",
       "Wading           168\n",
       "Bathing          152\n",
       "Snorkeling       119\n",
       "Diving           117\n",
       "Standing         111\n",
       "Bodyboarding       1\n",
       "Name: count, dtype: int64"
      ]
     },
     "execution_count": 29,
     "metadata": {},
     "output_type": "execute_result"
    }
   ],
   "source": [
    "df['Activity_clean'].value_counts()\n"
   ]
  },
  {
   "cell_type": "code",
   "execution_count": 30,
   "id": "b99c8339",
   "metadata": {},
   "outputs": [
    {
     "data": {
      "text/plain": [
       "Activity_clean\n",
       "Other           241\n",
       "Swimming        196\n",
       "Surfing          56\n",
       "Spearfishing     38\n",
       "Bathing          21\n",
       "Snorkeling       15\n",
       "Fishing          11\n",
       "Diving           11\n",
       "Wading           11\n",
       "Standing         11\n",
       "Name: count, dtype: int64"
      ]
     },
     "execution_count": 30,
     "metadata": {},
     "output_type": "execute_result"
    }
   ],
   "source": [
    "# Top actividades con ataques fatales\n",
    "df[df['Fatality_clean']=='Yes']['Activity_clean'].value_counts().head(10)\n"
   ]
  },
  {
   "cell_type": "code",
   "execution_count": 31,
   "id": "270a20de",
   "metadata": {},
   "outputs": [
    {
     "data": {
      "text/html": [
       "<div>\n",
       "<style scoped>\n",
       "    .dataframe tbody tr th:only-of-type {\n",
       "        vertical-align: middle;\n",
       "    }\n",
       "\n",
       "    .dataframe tbody tr th {\n",
       "        vertical-align: top;\n",
       "    }\n",
       "\n",
       "    .dataframe thead th {\n",
       "        text-align: right;\n",
       "    }\n",
       "</style>\n",
       "<table border=\"1\" class=\"dataframe\">\n",
       "  <thead>\n",
       "    <tr style=\"text-align: right;\">\n",
       "      <th>Fatality_clean</th>\n",
       "      <th>No</th>\n",
       "      <th>Unknown</th>\n",
       "      <th>Yes</th>\n",
       "    </tr>\n",
       "    <tr>\n",
       "      <th>Activity_clean</th>\n",
       "      <th></th>\n",
       "      <th></th>\n",
       "      <th></th>\n",
       "    </tr>\n",
       "  </thead>\n",
       "  <tbody>\n",
       "    <tr>\n",
       "      <th>Bathing</th>\n",
       "      <td>0.164474</td>\n",
       "      <td>0.697368</td>\n",
       "      <td>0.138158</td>\n",
       "    </tr>\n",
       "    <tr>\n",
       "      <th>Bodyboarding</th>\n",
       "      <td>1.000000</td>\n",
       "      <td>0.000000</td>\n",
       "      <td>0.000000</td>\n",
       "    </tr>\n",
       "    <tr>\n",
       "      <th>Diving</th>\n",
       "      <td>0.299145</td>\n",
       "      <td>0.606838</td>\n",
       "      <td>0.094017</td>\n",
       "    </tr>\n",
       "    <tr>\n",
       "      <th>Fishing</th>\n",
       "      <td>0.303371</td>\n",
       "      <td>0.671910</td>\n",
       "      <td>0.024719</td>\n",
       "    </tr>\n",
       "    <tr>\n",
       "      <th>Other</th>\n",
       "      <td>0.258305</td>\n",
       "      <td>0.672680</td>\n",
       "      <td>0.069015</td>\n",
       "    </tr>\n",
       "    <tr>\n",
       "      <th>Snorkeling</th>\n",
       "      <td>0.655462</td>\n",
       "      <td>0.218487</td>\n",
       "      <td>0.126050</td>\n",
       "    </tr>\n",
       "    <tr>\n",
       "      <th>Spearfishing</th>\n",
       "      <td>0.548023</td>\n",
       "      <td>0.344633</td>\n",
       "      <td>0.107345</td>\n",
       "    </tr>\n",
       "    <tr>\n",
       "      <th>Standing</th>\n",
       "      <td>0.693694</td>\n",
       "      <td>0.207207</td>\n",
       "      <td>0.099099</td>\n",
       "    </tr>\n",
       "    <tr>\n",
       "      <th>Surfing</th>\n",
       "      <td>0.720000</td>\n",
       "      <td>0.230222</td>\n",
       "      <td>0.049778</td>\n",
       "    </tr>\n",
       "    <tr>\n",
       "      <th>Swimming</th>\n",
       "      <td>0.448598</td>\n",
       "      <td>0.347871</td>\n",
       "      <td>0.203531</td>\n",
       "    </tr>\n",
       "    <tr>\n",
       "      <th>Wading</th>\n",
       "      <td>0.732143</td>\n",
       "      <td>0.202381</td>\n",
       "      <td>0.065476</td>\n",
       "    </tr>\n",
       "  </tbody>\n",
       "</table>\n",
       "</div>"
      ],
      "text/plain": [
       "Fatality_clean        No   Unknown       Yes\n",
       "Activity_clean                              \n",
       "Bathing         0.164474  0.697368  0.138158\n",
       "Bodyboarding    1.000000  0.000000  0.000000\n",
       "Diving          0.299145  0.606838  0.094017\n",
       "Fishing         0.303371  0.671910  0.024719\n",
       "Other           0.258305  0.672680  0.069015\n",
       "Snorkeling      0.655462  0.218487  0.126050\n",
       "Spearfishing    0.548023  0.344633  0.107345\n",
       "Standing        0.693694  0.207207  0.099099\n",
       "Surfing         0.720000  0.230222  0.049778\n",
       "Swimming        0.448598  0.347871  0.203531\n",
       "Wading          0.732143  0.202381  0.065476"
      ]
     },
     "execution_count": 31,
     "metadata": {},
     "output_type": "execute_result"
    }
   ],
   "source": [
    "df.groupby('Activity_clean')['Fatality_clean'].value_counts(normalize=True).unstack().fillna(0)\n"
   ]
  }
 ],
 "metadata": {
  "kernelspec": {
   "display_name": "Python 3",
   "language": "python",
   "name": "python3"
  },
  "language_info": {
   "codemirror_mode": {
    "name": "ipython",
    "version": 3
   },
   "file_extension": ".py",
   "mimetype": "text/x-python",
   "name": "python",
   "nbconvert_exporter": "python",
   "pygments_lexer": "ipython3",
   "version": "3.12.9"
  }
 },
 "nbformat": 4,
 "nbformat_minor": 5
}
